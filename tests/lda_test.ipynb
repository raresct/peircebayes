{
 "cells": [
  {
   "cell_type": "code",
   "execution_count": 24,
   "metadata": {
    "collapsed": true
   },
   "outputs": [],
   "source": [
    "import numpy as np\n",
    "import matplotlib.pyplot as plt\n",
    "\n",
    "%matplotlib inline"
   ]
  },
  {
   "cell_type": "code",
   "execution_count": 25,
   "metadata": {
    "collapsed": false
   },
   "outputs": [
    {
     "name": "stderr",
     "output_type": "stream",
     "text": [
      "/usr/lib/python2.7/dist-packages/pkg_resources/__init__.py:1224: UserWarning: /home/rares/.python-eggs is writable by group/others and vulnerable to attack when used with get_resource_filename. Consider a more secure location (set with .set_extraction_path or the PYTHON_EGG_CACHE environment variable).\n",
      "  warnings.warn(msg, UserWarning)\n"
     ]
    }
   ],
   "source": [
    "%%bash\n",
    "peircebayes ./lda/lda_example2.pb -n 100 -d -t -a cgs"
   ]
  },
  {
   "cell_type": "code",
   "execution_count": 26,
   "metadata": {
    "collapsed": true
   },
   "outputs": [],
   "source": [
    "thetash = np.load('/tmp/peircebayes/avg_samples.npz')"
   ]
  },
  {
   "cell_type": "code",
   "execution_count": 27,
   "metadata": {
    "collapsed": true
   },
   "outputs": [],
   "source": [
    "def plot_topics(T,phi):\n",
    "        f, axs = plt.subplots(1,T+1,figsize=(15,1))\n",
    "        ax = axs[0]\n",
    "        ax.text(0,0.4, \"Topics: \", fontsize = 16)\n",
    "        ax.axis(\"off\")\n",
    "        ax.get_yaxis().set_visible(False)\n",
    "        ax.get_xaxis().set_visible(False)\n",
    "        for (ax, (i,phi_t)) in zip(axs[1:], enumerate(phi)):\n",
    "            ax.get_yaxis().set_visible(False)\n",
    "            ax.get_xaxis().set_visible(False)\n",
    "            ax.imshow(phi_t, cmap='Greys_r', interpolation='none')\n",
    "        #f.show()"
   ]
  },
  {
   "cell_type": "code",
   "execution_count": 28,
   "metadata": {
    "collapsed": false
   },
   "outputs": [
    {
     "name": "stdout",
     "output_type": "stream",
     "text": [
      "Learned mu shape:\n",
      "(100, 10)\n",
      "Learned phi shape:\n",
      "(10, 25)\n"
     ]
    }
   ],
   "source": [
    "T = 10\n",
    "L = 5\n",
    "muh = thetash['arr_0']\n",
    "phih_flat = thetash['arr_1']\n",
    "print('Learned mu shape:\\n{}'.format(muh.shape))\n",
    "print('Learned phi shape:\\n{}'.format(phih_flat.shape))\n",
    "phih = [phi_t.reshape(L,L) for phi_t in list(phih_flat)]"
   ]
  },
  {
   "cell_type": "code",
   "execution_count": 29,
   "metadata": {
    "collapsed": false
   },
   "outputs": [
    {
     "data": {
      "image/png": "[encoded data removed]",
      "text/plain": [
       "<matplotlib.figure.Figure at 0x7fbe5c984b50>"
      ]
     },
     "metadata": {},
     "output_type": "display_data"
    }
   ],
   "source": [
    "plot_topics(T,phih)"
   ]
  },
  {
   "cell_type": "code",
   "execution_count": null,
   "metadata": {
    "collapsed": true
   },
   "outputs": [],
   "source": []
  }
 ],
 "metadata": {
  "kernelspec": {
   "display_name": "Python 2",
   "language": "python2",
   "name": "python2"
  },
  "language_info": {
   "codemirror_mode": {
    "name": "ipython",
    "version": 2
   },
   "file_extension": ".py",
   "mimetype": "text/x-python",
   "name": "python",
   "nbconvert_exporter": "python",
   "pygments_lexer": "ipython2",
   "version": "2.7.9"
  }
 },
 "nbformat": 4,
 "nbformat_minor": 0
}
