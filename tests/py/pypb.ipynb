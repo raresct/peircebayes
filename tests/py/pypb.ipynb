{
 "cells": [
  {
   "cell_type": "code",
   "execution_count": 37,
   "metadata": {
    "collapsed": true
   },
   "outputs": [],
   "source": [
    "import functools\n",
    "import copy\n",
    "from os.path import join"
   ]
  },
  {
   "cell_type": "code",
   "execution_count": 8,
   "metadata": {
    "collapsed": false
   },
   "outputs": [
    {
     "name": "stdout",
     "output_type": "stream",
     "text": [
      "[(1.0, 'toss', 2, 3)]\n",
      "2\n"
     ]
    },
    {
     "ename": "NameError",
     "evalue": "global name 'toss' is not defined",
     "output_type": "error",
     "traceback": [
      "\u001b[1;31m---------------------------------------------------------------------------\u001b[0m",
      "\u001b[1;31mNameError\u001b[0m                                 Traceback (most recent call last)",
      "\u001b[1;32m<ipython-input-8-c9c519c4e7db>\u001b[0m in \u001b[0;36m<module>\u001b[1;34m()\u001b[0m\n\u001b[0;32m     39\u001b[0m \u001b[1;33m\u001b[0m\u001b[0m\n\u001b[0;32m     40\u001b[0m \u001b[1;32mfor\u001b[0m \u001b[1;33m(\u001b[0m\u001b[0mo1\u001b[0m\u001b[1;33m,\u001b[0m \u001b[0mo2\u001b[0m\u001b[1;33m,\u001b[0m \u001b[0mcount\u001b[0m\u001b[1;33m)\u001b[0m \u001b[1;32min\u001b[0m \u001b[1;33m[\u001b[0m\u001b[0mobs\u001b[0m\u001b[1;33m[\u001b[0m\u001b[1;36m0\u001b[0m\u001b[1;33m]\u001b[0m\u001b[1;33m]\u001b[0m\u001b[1;33m:\u001b[0m\u001b[1;33m\u001b[0m\u001b[0m\n\u001b[1;32m---> 41\u001b[1;33m     \u001b[0mpb\u001b[0m\u001b[1;33m.\u001b[0m\u001b[0mexplain\u001b[0m\u001b[1;33m(\u001b[0m\u001b[0mo1\u001b[0m\u001b[1;33m,\u001b[0m \u001b[0mo2\u001b[0m\u001b[1;33m,\u001b[0m \u001b[0mcount\u001b[0m\u001b[1;33m=\u001b[0m\u001b[0mcount\u001b[0m\u001b[1;33m)\u001b[0m\u001b[1;33m\u001b[0m\u001b[0m\n\u001b[0m\u001b[0;32m     42\u001b[0m \u001b[1;33m\u001b[0m\u001b[0m\n",
      "\u001b[1;32m<ipython-input-8-c9c519c4e7db>\u001b[0m in \u001b[0;36mwrapper\u001b[1;34m(*args, **kwargs)\u001b[0m\n\u001b[0;32m     11\u001b[0m                     \u001b[1;32mprint\u001b[0m \u001b[1;34m'{},{}'\u001b[0m\u001b[1;33m.\u001b[0m\u001b[0mformat\u001b[0m\u001b[1;33m(\u001b[0m\u001b[0mx\u001b[0m\u001b[1;33m,\u001b[0m\u001b[0my\u001b[0m\u001b[1;33m)\u001b[0m\u001b[1;33m\u001b[0m\u001b[0m\n\u001b[0;32m     12\u001b[0m                 \u001b[0mkwargs\u001b[0m\u001b[1;33m[\u001b[0m\u001b[1;34m'toss'\u001b[0m\u001b[1;33m]\u001b[0m\u001b[1;33m=\u001b[0m\u001b[0mtoss\u001b[0m\u001b[1;33m\u001b[0m\u001b[0m\n\u001b[1;32m---> 13\u001b[1;33m                 \u001b[0mfunc\u001b[0m\u001b[1;33m(\u001b[0m\u001b[1;33m*\u001b[0m\u001b[0margs\u001b[0m\u001b[1;33m,\u001b[0m \u001b[1;33m**\u001b[0m\u001b[0mkwargs\u001b[0m\u001b[1;33m)\u001b[0m\u001b[1;33m\u001b[0m\u001b[0m\n\u001b[0m\u001b[0;32m     14\u001b[0m             \u001b[1;32mreturn\u001b[0m \u001b[0mwrapper\u001b[0m\u001b[1;33m\u001b[0m\u001b[0m\n\u001b[0;32m     15\u001b[0m         \u001b[0mself\u001b[0m\u001b[1;33m.\u001b[0m\u001b[0mexplain\u001b[0m \u001b[1;33m=\u001b[0m \u001b[0mwrap\u001b[0m\u001b[1;33m(\u001b[0m\u001b[0mfunc\u001b[0m\u001b[1;33m)\u001b[0m\u001b[1;33m\u001b[0m\u001b[0m\n",
      "\u001b[1;32m<ipython-input-8-c9c519c4e7db>\u001b[0m in \u001b[0;36mexplain\u001b[1;34m(o1, o2, count, **kwargs)\u001b[0m\n\u001b[0;32m     27\u001b[0m \u001b[1;32mdef\u001b[0m \u001b[0mexplain\u001b[0m\u001b[1;33m(\u001b[0m\u001b[0mo1\u001b[0m\u001b[1;33m,\u001b[0m \u001b[0mo2\u001b[0m\u001b[1;33m,\u001b[0m \u001b[0mcount\u001b[0m\u001b[1;33m=\u001b[0m\u001b[1;36m1\u001b[0m\u001b[1;33m,\u001b[0m \u001b[1;33m**\u001b[0m\u001b[0mkwargs\u001b[0m\u001b[1;33m)\u001b[0m\u001b[1;33m:\u001b[0m\u001b[1;33m\u001b[0m\u001b[0m\n\u001b[0;32m     28\u001b[0m     \u001b[1;32mprint\u001b[0m \u001b[0mo1\u001b[0m\u001b[1;33m\u001b[0m\u001b[0m\n\u001b[1;32m---> 29\u001b[1;33m     \u001b[0mtoss\u001b[0m\u001b[1;33m(\u001b[0m\u001b[0mo1\u001b[0m\u001b[1;33m,\u001b[0m \u001b[1;36m1\u001b[0m\u001b[1;33m)\u001b[0m\u001b[1;33m\u001b[0m\u001b[0m\n\u001b[0m\u001b[0;32m     30\u001b[0m     \u001b[1;32mprint\u001b[0m \u001b[1;34m'there'\u001b[0m\u001b[1;33m\u001b[0m\u001b[0m\n\u001b[0;32m     31\u001b[0m     \u001b[1;32mif\u001b[0m \u001b[0mo1\u001b[0m\u001b[1;33m==\u001b[0m\u001b[1;36m1\u001b[0m\u001b[1;33m:\u001b[0m\u001b[1;33m\u001b[0m\u001b[0m\n",
      "\u001b[1;31mNameError\u001b[0m: global name 'toss' is not defined"
     ]
    }
   ],
   "source": [
    "class PBDef:\n",
    "    def __init__(self):\n",
    "        self.defs = {}\n",
    "        self.explain = None\n",
    "    def add_dirichlet(self, *args):\n",
    "        self.defs.append(args)\n",
    "    def draw(self, name, k, i):\n",
    "        \n",
    "     \n",
    "    def __call__(self, fn):\n",
    "        @functools.wraps(fn)\n",
    "        def decorated(*args, **kwargs):\n",
    "            #print \"In my decorator before call, with arg %s\" % self.arg\n",
    "            fn(self, *args, **kwargs)\n",
    "            #print \"In my decorator after call, with arg %s\" % self.arg\n",
    "        return decorated\n",
    "    \n",
    "    #def set_explain(self, func):\n",
    "    #    def wrap(func):\n",
    "    #        def wrapper(*args, **kwargs):\n",
    "    #            def toss(x,y):\n",
    "    #                print '{},{}'.format(x,y)\n",
    "    #            kwargs['toss']=toss\n",
    "    #            func(*args, **kwargs)\n",
    "    #        return wrapper\n",
    "    #    self.explain = wrap(func)\n",
    "\n",
    "obs = [(2,2,3151), (2, 1, 346), (1, 2, 310), (1, 1, 1193)]\n",
    "\n",
    "pb = PBDef()\n",
    "pb.add_dirichlet(1.0, 'toss', 2, 3)\n",
    "\n",
    "#def pb_func(func):\n",
    "#    def pb_explain(args):\n",
    "#        func(*args)\n",
    "#    return pb_explain\n",
    "\n",
    "def explain(pb, o1, o2, count=1, **kwargs): \n",
    "    print o1\n",
    "    pb.draw('toss', o1, 1)\n",
    "    print 'there'\n",
    "    if o1==1:\n",
    "        pb.draw('toss', o2, 2)\n",
    "    else:\n",
    "        pb.draw('toss', o2, 3)\n",
    "\n",
    "pb.set_explain(explain)\n",
    "\n",
    "print pb.defs\n",
    "\n",
    "for (o1, o2, count) in [obs[0]]:\n",
    "    pb.explain(o1, o2, count=count)\n",
    "    "
   ]
  },
  {
   "cell_type": "code",
   "execution_count": 14,
   "metadata": {
    "collapsed": false
   },
   "outputs": [],
   "source": [
    "pb.explain(1,2)"
   ]
  },
  {
   "cell_type": "code",
   "execution_count": 19,
   "metadata": {
    "collapsed": false
   },
   "outputs": [],
   "source": [
    "class MyDecorator(object):\n",
    "    def __init__(self, argument):\n",
    "        self.arg = argument\n",
    "    \n",
    "    def __call__(self, fn):\n",
    "        @functools.wraps(fn)\n",
    "        def decorated(*args, **kwargs):\n",
    "            print \"In my decorator before call, with arg %s\" % self.arg\n",
    "            fn(self, *args, **kwargs)\n",
    "            print \"In my decorator after call, with arg %s\" % self.arg\n",
    "        return decorated"
   ]
  },
  {
   "cell_type": "code",
   "execution_count": 20,
   "metadata": {
    "collapsed": false
   },
   "outputs": [],
   "source": [
    "@MyDecorator(\"some other func!\")\n",
    "def some_other_function(self):\n",
    "    print self.arg"
   ]
  },
  {
   "cell_type": "code",
   "execution_count": 21,
   "metadata": {
    "collapsed": false
   },
   "outputs": [
    {
     "name": "stdout",
     "output_type": "stream",
     "text": [
      "In my decorator before call, with arg some other func!\n",
      "some other func!\n",
      "In my decorator after call, with arg some other func!\n"
     ]
    }
   ],
   "source": [
    "some_other_function()"
   ]
  },
  {
   "cell_type": "code",
   "execution_count": 22,
   "metadata": {
    "collapsed": true
   },
   "outputs": [],
   "source": [
    "def explain(pb, o1, o2, count=1, **kwargs): \n",
    "    print o1\n",
    "    pb.toss(o1, 1)\n",
    "    print 'there'\n",
    "    if o1==1:\n",
    "        pb.toss(o2, 2)\n",
    "    else:\n",
    "        pb.toss(o2, 3)"
   ]
  },
  {
   "cell_type": "code",
   "execution_count": null,
   "metadata": {
    "collapsed": true
   },
   "outputs": [],
   "source": []
  },
  {
   "cell_type": "code",
   "execution_count": 71,
   "metadata": {
    "collapsed": false
   },
   "outputs": [],
   "source": [
    "class DrawError(Exception):\n",
    "    def __init__(self, a, i, k1, k2):\n",
    "        self.a = a\n",
    "        self.i = i\n",
    "        self.k1 = k1\n",
    "        self.k2 = k2\n",
    "    def __str__(self):\n",
    "        return 'Different draws in distribution ({}, {}):\\t{} and {}'.format(self.a,self.i,self.k1,self.k2)\n",
    "\n",
    "class DistribError(Exception):\n",
    "    def __init__(self, name):\n",
    "        self.name = name\n",
    "    def __str__(self):\n",
    "        return 'Invalid distribution name:\\t{}'.format(self.name)\n",
    "    \n",
    "class PBDef:\n",
    "    def __init__(self, distribs, out='pypb/out1.plate'):\n",
    "        self.defs = {}\n",
    "        self.explain = None\n",
    "        self.curr_explanation = {}\n",
    "        self.curr_solution = []\n",
    "        self.a = 0\n",
    "        self.count=1\n",
    "        for distrib in distribs:\n",
    "            self.add_dirichlet(*distrib)\n",
    "        self.out = out\n",
    "        with open(self.out, 'w') as f:\n",
    "            pass\n",
    "        \n",
    "    def add_dirichlet(self, priors, name, k_a, i_a):\n",
    "        self.defs[name] = (priors, self.a, k_a, i_a)\n",
    "        self.a += 1\n",
    "        \n",
    "    def draw(self, name, k, i):\n",
    "        if name not in self.defs:\n",
    "            raise DistribError(name)\n",
    "        (_, a, k_a, i_a) = self.defs[name]\n",
    "        assert i<=i_a\n",
    "        assert k<=k_a\n",
    "        if (a, i) in self.curr_explanation:\n",
    "            k2 = self.curr_explanation[(a,i)]\n",
    "            if k != k2:\n",
    "                raise DrawError(a, i, k, k2)\n",
    "            else:\n",
    "                return\n",
    "        else:\n",
    "            self.curr_explanation[(a,i)] = k\n",
    "     \n",
    "    def __call__(self, fn):\n",
    "        @functools.wraps(fn)\n",
    "        def decorated(*args, **kwargs):\n",
    "            self.curr_explanation = {}\n",
    "            self.curr_solution = []\n",
    "            for _ in fn(self, *args, **kwargs):\n",
    "                self.curr_solution.append(copy.copy(self.curr_explanation))\n",
    "                self.curr_explanation = {}\n",
    "            self.count = kwargs['count']\n",
    "            assert self.count > 0 \n",
    "            self.write_solution()\n",
    "        return decorated\n",
    "    \n",
    "    def write_solution(self):\n",
    "        with open(self.out, 'a') as f:\n",
    "            f.write(';'.join(\n",
    "                [ '.'.join(['{},{},{}'.format(a,i,k) for (a,i),k in expl.iteritems()]) \n",
    "                 for expl in self.curr_solution]+[str(self.count)])+'\\n')                \n",
    "                \n",
    "# test\n",
    "\n",
    "distribs = [(1.0, 'mu', 2, 3), (1.0, 'phi', 4, 2)]\n",
    "\n",
    "\n",
    "@PBDef(distribs)\n",
    "def explain(pb, doc, token, count=1):\n",
    "    for topic in range(2):\n",
    "        pb.draw('mu', topic, doc)\n",
    "        pb.draw('phi', token, topic)\n",
    "        yield\n"
   ]
  },
  {
   "cell_type": "code",
   "execution_count": 52,
   "metadata": {
    "collapsed": false
   },
   "outputs": [
    {
     "name": "stdout",
     "output_type": "stream",
     "text": [
      "(1, 1)\n",
      "{'count': 1}\n"
     ]
    }
   ],
   "source": [
    "explain(1,1,count=1)"
   ]
  },
  {
   "cell_type": "code",
   "execution_count": 70,
   "metadata": {
    "collapsed": false
   },
   "outputs": [],
   "source": [
    "corpus = [\n",
    "    [(0,4), (3,2)],\n",
    "    [(2,1), (3,5)],\n",
    "    [(0,4), (1,2)]\n",
    "]\n",
    "\n",
    "for doc,l in enumerate(corpus):\n",
    "    for (token, count) in l:\n",
    "        explain(doc, token, count=count)"
   ]
  },
  {
   "cell_type": "code",
   "execution_count": null,
   "metadata": {
    "collapsed": true
   },
   "outputs": [],
   "source": []
  }
 ],
 "metadata": {
  "kernelspec": {
   "display_name": "Python 2",
   "language": "python2",
   "name": "python2"
  },
  "language_info": {
   "codemirror_mode": {
    "name": "ipython",
    "version": 2
   },
   "file_extension": ".py",
   "mimetype": "text/x-python",
   "name": "python",
   "nbconvert_exporter": "python",
   "pygments_lexer": "ipython2",
   "version": "2.7.9"
  }
 },
 "nbformat": 4,
 "nbformat_minor": 0
}
